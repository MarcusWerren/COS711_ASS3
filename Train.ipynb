{
  "cells": [
    {
      "cell_type": "markdown",
      "metadata": {
        "id": "VuZmFVEJ7c0J"
      },
      "source": [
        "Imports for the notebook"
      ]
    },
    {
      "cell_type": "code",
      "execution_count": 27,
      "metadata": {
        "id": "cves1QT77c0Q"
      },
      "outputs": [],
      "source": [
        "# Pytorch imports\n",
        "import torch\n",
        "import torchvision\n",
        "\n",
        "from torchvision.models.detection.faster_rcnn import FastRCNNPredictor\n",
        "from torchvision.models.detection import FasterRCNN\n",
        "from torchvision.models.detection.rpn import AnchorGenerator\n",
        "\n",
        "from torch.utils.data import DataLoader, Dataset\n",
        "from torch.utils.data.sampler import SequentialSampler \n",
        "\n",
        "# Loading Data imports \n",
        "import pandas as pd\n",
        "from PIL import Image\n",
        "import cv2\n",
        "\n",
        "\n",
        "# Other imports\n",
        "import numpy as np\n",
        "import os\n",
        "from matplotlib import pyplot as plt\n",
        "import matplotlib.patches as patches\n",
        "import random as rand\n",
        "import albumentations as A\n",
        "from albumentations.pytorch.transforms import ToTensorV2\n",
        "import PIL\n",
        "from PIL import Image\n",
        "\n",
        "device = torch.device('cuda') if torch.cuda.is_available() else torch.device('cpu')"
      ]
    },
    {
      "cell_type": "markdown",
      "metadata": {
        "id": "P9QedESJCv5l"
      },
      "source": [
        "The classes to load the data from a folder"
      ]
    },
    {
      "cell_type": "code",
      "execution_count": 6,
      "metadata": {
        "id": "edUPna1_7c0T"
      },
      "outputs": [],
      "source": [
        "class PassionfruitDataset(Dataset):\n",
        "\n",
        "    def __init__(self, samples, path_samples, path_labels, transforms=None):\n",
        "        super().__init__()\n",
        "\n",
        "        self.path_samples = path_samples\n",
        "        self.path_labels = path_labels\n",
        "        self.transforms = transforms\n",
        "\n",
        "        self.samples = samples\n",
        "        self.expected_output = pd.read_csv(self.path_labels, sep=',')\n",
        "\n",
        "    def __getitem__(self, index):\n",
        "        sample_id = self.samples[index]\n",
        "        id, ext = sample_id.split('.')\n",
        "        records = self.expected_output[self.expected_output['Image_ID'] == id]\n",
        "\n",
        "        image = cv2.imread(f'{self.path_samples}/{sample_id}', cv2.IMREAD_COLOR)\n",
        "        image = cv2.cvtColor(image, cv2.COLOR_BGR2RGB).astype(np.float32)\n",
        "        image /= 255.0\n",
        "\n",
        "        boxes = records[['xmin', 'ymin', 'width', 'height']].values\n",
        "        boxes[:, 2] = boxes[:, 0] + boxes[:, 2]\n",
        "        boxes[:, 3] = boxes[:, 1] + boxes[:, 3]\n",
        "\n",
        "        labels = []\n",
        "        label_dic = {'not': 0, 'fruit_healthy': 1, 'fruit_woodiness': 2, 'fruit_brownspot': 3}\n",
        "        for i, row in records.iterrows():\n",
        "            labels.append(label_dic[row['class']])\n",
        "\n",
        "        boxes = torch.as_tensor(boxes, dtype=torch.float32)\n",
        "        labels = torch.as_tensor(labels, dtype=torch.int64)\n",
        "        image_id = torch.tensor([index])\n",
        "        area = (boxes[:, 3] - boxes[:, 1]) * (boxes[:, 2] - boxes[:, 0])\n",
        "        iscrowd = torch.zeros((records.shape[0],), dtype=torch.int64)\n",
        "\n",
        "        target = {}\n",
        "        target['boxes'] = boxes\n",
        "        target['labels'] = labels\n",
        "        target['image_id'] = image_id\n",
        "        target['area'] = area\n",
        "        target['iscrowd'] = iscrowd\n",
        "\n",
        "        if self.transforms:\n",
        "            sample = {\n",
        "                'image': image,\n",
        "                'bboxes': target['boxes'],\n",
        "                'labels': labels\n",
        "            }\n",
        "            sample = self.transforms(**sample)\n",
        "            image = sample['image']\n",
        "            target['boxes'] = torch.stack(tuple(map(torch.tensor, zip(*sample['bboxes'])))).permute(1, 0)\n",
        "\n",
        "        return image, target, id\n",
        "\n",
        "    def __len__(self) -> int:\n",
        "        return len(self.samples)"
      ]
    },
    {
      "cell_type": "code",
      "execution_count": null,
      "metadata": {},
      "outputs": [],
      "source": [
        "class PassionfruitDataset_Test(Dataset):\n",
        "\n",
        "    def __init__(self, samples, path_samples, transforms=None):\n",
        "        super().__init__()\n",
        "\n",
        "        self.path_samples = path_samples\n",
        "        self.transforms = transforms\n",
        "        self.samples = samples\n",
        "\n",
        "    def __getitem__(self, index: int):\n",
        "\n",
        "        sample_id = self.samples[index]\n",
        "        id, ext = sample_id.split('.')\n",
        "\n",
        "        img = cv2.imread(f'{self.path_samples}/{sample_id}', cv2.IMREAD_COLOR)\n",
        "        img = cv2.cvtColor(img, cv2.COLOR_BGR2RGB).astype(np.float32)\n",
        "        img /= 255.0\n",
        "\n",
        "        if self.transforms:\n",
        "            sample = {\n",
        "                'image': img,\n",
        "            }\n",
        "            sample = self.transforms(**sample)\n",
        "            img = sample['image']\n",
        "\n",
        "        return img, id\n",
        "\n",
        "    def __len__(self) -> int:\n",
        "        return len(self.samples)"
      ]
    },
    {
      "cell_type": "markdown",
      "metadata": {
        "id": "NPW_A4k0Dh2t"
      },
      "source": [
        "The functions for the transformers"
      ]
    },
    {
      "cell_type": "code",
      "execution_count": 8,
      "metadata": {
        "id": "w9mUehYn7c0U"
      },
      "outputs": [],
      "source": [
        "def train_transform():\n",
        "    return A.Compose([A.Flip(0.5),ToTensorV2(p=1.0)], bbox_params={'format': 'pascal_voc', 'label_fields': ['labels']})\n",
        "\n",
        "def valid_transform():\n",
        "    return A.Compose([ToTensorV2(p=1.0)], bbox_params={'format': 'pascal_voc', 'label_fields': ['labels']})\n",
        "\n",
        "def test_transform():\n",
        "    return A.Compose([ToTensorV2(p=1.0)])"
      ]
    },
    {
      "cell_type": "markdown",
      "metadata": {
        "id": "YJhpExWgDmWM"
      },
      "source": [
        "Load the pretrained model for the program"
      ]
    },
    {
      "cell_type": "code",
      "execution_count": null,
      "metadata": {
        "id": "OtQ7Om-a7c0W"
      },
      "outputs": [],
      "source": [
        "model = torchvision.models.detection.fasterrcnn_resnet50_fpn(pretrained=True)\n",
        "num_classes = 4\n",
        "in_features = model.roi_heads.box_predictor.cls_score.in_features\n",
        "model.roi_heads.box_predictor = FastRCNNPredictor(in_features, num_classes)"
      ]
    },
    {
      "cell_type": "markdown",
      "metadata": {
        "id": "Az_yoTtuDyD6"
      },
      "source": [
        "Load the data and create the data loaders"
      ]
    },
    {
      "cell_type": "code",
      "execution_count": null,
      "metadata": {
        "id": "vjW_6hkg7c0W"
      },
      "outputs": [],
      "source": [
        "def collate_fn(batch):\n",
        "    return tuple(zip(*batch))"
      ]
    },
    {
      "cell_type": "code",
      "execution_count": null,
      "metadata": {
        "id": "vuhsG7eJ7c0X"
      },
      "outputs": [],
      "source": [
        "# sample_path = '/content/Data/Train_Images'\n",
        "sample_path = '/content/Data/Train_Images_(augmented)'\n",
        "label_path = '/content/Train.csv'\n",
        "\n",
        "sample_ids = list( sorted(os.listdir(os.path.join(sample_path))))\n",
        "try:\n",
        "  sample_ids.remove('.DS_Store')\n",
        "except:\n",
        "  pass\n",
        "rand.shuffle(sample_ids)\n",
        "\n",
        "split = int(len(sample_ids) * 70 / 100)\n",
        "\n",
        "train_sample_ids = sample_ids[:split]\n",
        "valid_sample_ids = sample_ids[split:]\n",
        "\n",
        "train_dataset = PassionfruitDataset(train_sample_ids, sample_path, label_path, train_transform())\n",
        "valid_dataset = PassionfruitDataset(valid_sample_ids, sample_path, label_path, valid_transform())\n",
        "\n",
        "train_loader = DataLoader(train_dataset, batch_size=4, shuffle=False, num_workers=2, collate_fn=collate_fn)\n",
        "valid_loader = DataLoader(train_dataset, batch_size=4, shuffle=False, num_workers=2, collate_fn=collate_fn)"
      ]
    },
    {
      "cell_type": "markdown",
      "metadata": {
        "id": "9KQGjozsEHTK"
      },
      "source": [
        "Define the hyperparameters"
      ]
    },
    {
      "cell_type": "code",
      "execution_count": null,
      "metadata": {
        "id": "kf1FqaPL7c0b"
      },
      "outputs": [],
      "source": [
        "model.to(device)\n",
        "params = [p for p in model.parameters() if p.requires_grad]\n",
        "optimiser = torch.optim.SGD(params, lr=0.001, momentum=0.9, weight_decay=0.0005)\n",
        "num_epochs = 5"
      ]
    },
    {
      "cell_type": "markdown",
      "metadata": {
        "id": "FN3QVAWbELX7"
      },
      "source": [
        "Train the model"
      ]
    },
    {
      "cell_type": "code",
      "execution_count": null,
      "metadata": {
        "colab": {
          "base_uri": "https://localhost:8080/",
          "height": 612
        },
        "id": "sglx3uHX7c0c",
        "outputId": "efa3bf58-8b98-43ec-98a4-7ef166b2857f"
      },
      "outputs": [],
      "source": [
        "update = 0\n",
        "\n",
        "loss_df = pd.DataFrame(columns=['update', 'loss',])\n",
        "\n",
        "for epoch in range(num_epochs):\n",
        "    \n",
        "    for images, targets, ids in train_loader:\n",
        "      \n",
        "        images = list(image.to(device) for image in images)\n",
        "        targets = [{k: v.to(device) for k, v in t.items()} for t in targets]\n",
        "\n",
        "        loss = model(images, targets)\n",
        "\n",
        "        losses = sum(l for loss in loss.values())\n",
        "        loss_value = losses.item()\n",
        "\n",
        "        optimiser.zero_grad()\n",
        "        losses.backward()\n",
        "        optimiser.step()\n",
        "\n",
        "        if update % 1 == 0:\n",
        "            result = {'update': update, 'loss': loss_value}\n",
        "            loss_df = loss_df.append(result, ignore_index = True)\n",
        "            loss_df.to_csv('/content/Results_loss.csv')\n",
        "        \n",
        "        elif update == 0:\n",
        "            result = {'update': update, 'loss': loss_value}\n",
        "            loss_df = loss_df.append(result, ignore_index = True)\n",
        "            loss_df.to_csv('/content/Results_loss.csv')\n",
        "\n",
        "        update += 1\n",
        "\n",
        "torch.save(model.state_dict(), '/content/fasterrcnn_resnet50_fpn.pth')"
      ]
    },
    {
      "cell_type": "markdown",
      "metadata": {
        "id": "uhkGZHFEbozq"
      },
      "source": [
        "Create the data loader for the test data"
      ]
    },
    {
      "cell_type": "code",
      "execution_count": null,
      "metadata": {
        "id": "Vwenjh7j7wfm"
      },
      "outputs": [],
      "source": [
        "model = torchvision.models.detection.fasterrcnn_resnet50_fpn(pretrained=False, pretrained_backbone=False)\n",
        "num_classes = 4\n",
        "in_features = model.roi_heads.box_predictor.cls_score.in_features\n",
        "model.roi_heads.box_predictor = FastRCNNPredictor(in_features, num_classes)\n",
        "model.load_state_dict(torch.load('/content/drive/MyDrive/fasterrcnn_resnet50_fpn.pth'))\n",
        "model.eval()\n",
        "x = model.to(device)"
      ]
    },
    {
      "cell_type": "code",
      "execution_count": null,
      "metadata": {
        "id": "qLZcHbR-bntn"
      },
      "outputs": [],
      "source": [
        "sample_path = '/content/Data/Test_Images'\n",
        "sample_ids = list( sorted(os.listdir(os.path.join(sample_path))))\n",
        "try:\n",
        "  sample_ids.remove('.DS_Store')\n",
        "except:\n",
        "  pass\n",
        "\n",
        "test_dataset = PassionfruitDataset_Test(sample_ids, sample_path, test_transform())\n",
        "\n",
        "test_loader = DataLoader(test_dataset, batch_size=4, shuffle=False, num_workers=2, drop_last=False, collate_fn=collate_fn)"
      ]
    },
    {
      "cell_type": "code",
      "execution_count": null,
      "metadata": {
        "colab": {
          "base_uri": "https://localhost:8080/"
        },
        "id": "kayNxsE75kwl",
        "outputId": "39bdf014-21f8-4c0c-c924-eded9024abc4"
      },
      "outputs": [],
      "source": [
        "label_pred_dic = {0:'not', 1:'fruit_healthy', 2:'fruit_woodiness', 3:'fruit_brownspot'}\n",
        "threshold = 0.5\n",
        "test_df = pd.DataFrame(columns= ['Image_Id','class','confidence','ymin','xmin','ymax','xmax'])\n",
        "\n",
        "model.eval()\n",
        "\n",
        "for images, ids in test_loader:\n",
        "\n",
        "    images = list(image.to(device) for image in images)\n",
        "    outputs = model(images)\n",
        "\n",
        "    print(f'Step: {stop}')\n",
        "    for i, image in enumerate(images):\n",
        "\n",
        "        boxes = outputs[i]['boxes'].data.cpu().numpy()\n",
        "        scores = outputs[i]['scores'].data.cpu().numpy()\n",
        "        labels = outputs[i]['labels'].data.cpu().numpy()\n",
        "\n",
        "        boxes = boxes[scores >= threshold].astype(np.int32)\n",
        "        labels = labels[scores >= threshold]\n",
        "        \n",
        "        labels = [label_pred_dic[l] for l in labels]\n",
        "\n",
        "        scores = scores[scores >= threshold]\n",
        "        image_id = ids[i]\n",
        "        \n",
        "        for j in range(len(boxes)):\n",
        "\n",
        "            result = {\n",
        "                'Image_Id': image_id,\n",
        "                'class': labels[j],\n",
        "                'confidence': scores[j],\n",
        "                'ymin': boxes[j, 1], \n",
        "                'xmin': boxes[j, 0],\n",
        "                'ymax': boxes[j, 3],\n",
        "                'xmax': boxes[j, 2]\n",
        "            }\n",
        "\n",
        "            test_df = test_df.append(result, ignore_index = True)\n",
        "            test_df.to_csv('/content/Results_Test.csv') \n",
        "\n",
        "test_df.to_csv('/content/Results_Test.csv')        "
      ]
    },
    {
      "cell_type": "code",
      "execution_count": 59,
      "metadata": {},
      "outputs": [],
      "source": [
        "def showImageBB(image):\n",
        "    img = image[0]    \n",
        "    \n",
        "    try:\n",
        "        npimg = img.numpy()\n",
        "        npimg = np.transpose(npimg, (1, 2, 0))\n",
        "    except:\n",
        "        npimg = img\n",
        "    fig, ax = plt.subplots()\n",
        "    plt.axis('off')\n",
        "    ax.imshow(npimg)\n",
        "    for box in image[1]['boxes']:\n",
        "\n",
        "        xmin = box[0]\n",
        "        ymin = box[1]\n",
        "        width = box[2] - box[0]\n",
        "        height = box[3] - box[1]\n",
        "\n",
        "\n",
        "        rect = patches.Rectangle((xmin, ymin), width, height, linewidth=3, edgecolor='r', facecolor='none')\n",
        "        ax.add_patch(rect)\n",
        "    plt.show()"
      ]
    },
    {
      "cell_type": "code",
      "execution_count": null,
      "metadata": {},
      "outputs": [],
      "source": [
        "sample_path = '/media/marcus/b18c7b58-f10e-4d8d-a377-a2cf5a589ad5/marcus/UNI/Honours/Semester 2/COS 711/Assignments/Ass 3/Data/Test_Images/Test_Images'\n",
        "label_path = '/media/marcus/b18c7b58-f10e-4d8d-a377-a2cf5a589ad5/marcus/UNI/Honours/Semester 2/COS 711/Assignments/Ass 3/Results/Test.csv'\n",
        "\n",
        "test_sample_ids = list( sorted(os.listdir(os.path.join(sample_path))))\n",
        "try:\n",
        "  test_sample_ids.remove('.DS_Store')\n",
        "except:\n",
        "  pass\n",
        "rand.shuffle(test_sample_ids)\n",
        "\n",
        "labelled_test_data = PassionfruitDataset(test_sample_ids, sample_path, label_path, None)\n",
        "\n",
        "for i in range(9):\n",
        "    showImageBB(labelled_test_data[i])"
      ]
    }
  ],
  "metadata": {
    "accelerator": "GPU",
    "colab": {
      "collapsed_sections": [],
      "name": "Train.ipynb",
      "provenance": []
    },
    "interpreter": {
      "hash": "ad4078168b69d66fe05634f3b7be757ef4015f974a20b20ffdc4b2de487ad266"
    },
    "kernelspec": {
      "display_name": "Python 3.8.8 64-bit ('base': conda)",
      "language": "python",
      "name": "python3"
    },
    "language_info": {
      "codemirror_mode": {
        "name": "ipython",
        "version": 3
      },
      "file_extension": ".py",
      "mimetype": "text/x-python",
      "name": "python",
      "nbconvert_exporter": "python",
      "pygments_lexer": "ipython3",
      "version": "3.8.8"
    },
    "orig_nbformat": 4
  },
  "nbformat": 4,
  "nbformat_minor": 0
}
