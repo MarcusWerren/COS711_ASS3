{
 "cells": [
  {
   "cell_type": "markdown",
   "metadata": {},
   "source": [
    "Imports"
   ]
  },
  {
   "cell_type": "code",
   "execution_count": 1,
   "metadata": {},
   "outputs": [],
   "source": [
    "import torch\n",
    "import torchvision.transforms as transforms\n",
    "\n",
    "import matplotlib.pyplot as plt\n",
    "import matplotlib.patches as patches\n",
    "import numpy as np\n",
    "import cv2\n",
    "import PIL\n",
    "from PIL import Image\n",
    "import copy\n",
    "import random as rand\n",
    "import math\n",
    "\n",
    "import Dataloader"
   ]
  },
  {
   "cell_type": "markdown",
   "metadata": {},
   "source": [
    "Draw bounding box in image"
   ]
  },
  {
   "cell_type": "code",
   "execution_count": 2,
   "metadata": {},
   "outputs": [],
   "source": [
    "def showImageBB(image):\n",
    "    if isinstance(image[0], PIL.JpegImagePlugin.JpegImageFile):\n",
    "        img = transform(image[0])\n",
    "    else:\n",
    "        img = image[0]    \n",
    "    try:\n",
    "        # img = img / 2 + 0.5  # unnormalize\n",
    "        npimg = img.numpy()\n",
    "        npimg = np.transpose(npimg, (1, 2, 0))\n",
    "    except:\n",
    "        npimg = img\n",
    "    fig, ax = plt.subplots()\n",
    "    ax.imshow(npimg)\n",
    "    for box in image[1]['boxes']:\n",
    "        rect = patches.Rectangle((box[0], box[1]), box[2], box[3], linewidth=2, edgecolor='r', facecolor='none')\n",
    "        ax.add_patch(rect)\n",
    "    plt.show()"
   ]
  },
  {
   "cell_type": "markdown",
   "metadata": {},
   "source": [
    "Read in Images"
   ]
  },
  {
   "cell_type": "code",
   "execution_count": 3,
   "metadata": {},
   "outputs": [],
   "source": [
    "transform = transforms.Compose([\n",
    "    transforms.ToTensor(),\n",
    "    transforms.Normalize((0.5,0.5,0.5), (0.5,0.5,0.5))\n",
    "])\n",
    "\n",
    "dataset = Dataloader.PassionfruitDataset(\n",
    "    '/media/marcus/b18c7b58-f10e-4d8d-a377-a2cf5a589ad5/marcus/UNI/Honours/Semester 2/COS 711/Assignments/Ass 3/Data/Train_Images/Train_Images_(augmented)',\n",
    "    '/media/marcus/b18c7b58-f10e-4d8d-a377-a2cf5a589ad5/marcus/UNI/Honours/Semester 2/COS 711/Assignments/Ass 3/Data/Train.csv',\n",
    "    None)\n"
   ]
  },
  {
   "cell_type": "markdown",
   "metadata": {},
   "source": [
    "Gaussian Noise"
   ]
  },
  {
   "cell_type": "code",
   "execution_count": 4,
   "metadata": {},
   "outputs": [],
   "source": [
    "def noisy(noise_typ,image):\n",
    "    if noise_typ == \"gauss\":\n",
    "        row,col,ch= image.shape\n",
    "        mean = 1\n",
    "        var = 0.1\n",
    "        sigma = var**0.5\n",
    "        gauss = np.random.normal(mean,sigma,(row,col,ch))\n",
    "        gauss = gauss.reshape(row,col,ch)\n",
    "        noisy = image + gauss\n",
    "\n",
    "        return noisy\n",
    "\n",
    "    elif noise_typ == \"poisson\":\n",
    "        vals = len(np.unique(image))\n",
    "        vals = 0.8 ** np.ceil(np.log2(vals))\n",
    "        noisy = np.random.poisson(image * vals) / float(vals)\n",
    "        \n",
    "        return noisy\n",
    "\n",
    "    elif noise_typ ==\"speckle\":\n",
    "        row,col,ch = image.shape\n",
    "        gauss = np.random.randn(row,col,ch)\n",
    "        gauss = gauss.reshape(row,col,ch)        \n",
    "        noisy = image + image * gauss\n",
    "        \n",
    "        return noisy"
   ]
  },
  {
   "cell_type": "code",
   "execution_count": 5,
   "metadata": {},
   "outputs": [],
   "source": [
    "def addNoise(pattern, opt):\n",
    "    change = True\n",
    "    noise_type = {0: 'gauss', 1: 'poisson', 2: 'speckle', 4: None}\n",
    "    noise = noise_type[opt]\n",
    "    \n",
    "    newPattern = copy.deepcopy(pattern)\n",
    "    img = np.array(newPattern[0])\n",
    "\n",
    "    if noise != None:\n",
    "        img = noisy(noise, img)\n",
    "        img = (img).astype('int')\n",
    "\n",
    "    else:\n",
    "        change = False\n",
    "    \n",
    "    return img, newPattern, change    \n",
    "    "
   ]
  },
  {
   "cell_type": "markdown",
   "metadata": {},
   "source": [
    "Rotation"
   ]
  },
  {
   "cell_type": "code",
   "execution_count": 6,
   "metadata": {},
   "outputs": [],
   "source": [
    "def rotate(origin, point, angle):\n",
    "    ox, oy = origin\n",
    "    px, py = point\n",
    "\n",
    "    qx = ox + math.cos(angle) * (px - ox) - math.sin(angle) * (py - oy)\n",
    "    qy = oy + math.sin(angle) * (px - ox) + math.cos(angle) * (py - oy)\n",
    "    return qx, qy"
   ]
  },
  {
   "cell_type": "code",
   "execution_count": 7,
   "metadata": {},
   "outputs": [],
   "source": [
    "def rotateImage(pattern, opt):\n",
    "    change = True\n",
    "    # Create a copy of the pattern\n",
    "    newPattern = copy.deepcopy(pattern)\n",
    "    \n",
    "    # Get create rotation options\n",
    "    rot_opt = {0: cv2.ROTATE_90_CLOCKWISE, 1: cv2.ROTATE_180, 2: cv2.ROTATE_90_COUNTERCLOCKWISE, 3: None}\n",
    "    rot_opt_degree = {0: 90, 1: 180, 2: 270}\n",
    "    rot = rot_opt[opt]\n",
    "\n",
    "\n",
    "    img = np.array(newPattern[0])\n",
    "\n",
    "    if rot != None:\n",
    "        # Rotate Image\n",
    "        img = cv2.rotate(img, rot)\n",
    "\n",
    "        boxes = []\n",
    "        row, col, chn = img.shape\n",
    "        centre = [row/2, col/2]\n",
    "        for box in newPattern[1]['boxes']:\n",
    "            box = np.array(box)\n",
    "            if rot == 0:\n",
    "                xmin, ymin = rotate([centre[0], centre[1]],[box[0], box[1]], np.deg2rad(rot_opt_degree[rot]))\n",
    "                width, height = [box[3], box[2]]\n",
    "                xmin = xmin - width\n",
    "\n",
    "            elif rot == 1:\n",
    "                xmin, ymin = rotate([centre[0], centre[1]],[box[0], box[1]], np.deg2rad(rot_opt_degree[rot]))\n",
    "                width, height = [box[2], box[3]]\n",
    "                xmin, ymin = [xmin-width, ymin-height]\n",
    "\n",
    "            else:\n",
    "                xmin, ymin = rotate([centre[0], centre[1]],[box[0], box[1]], np.deg2rad(rot_opt_degree[rot]))\n",
    "                width, height = [box[3], box[2]]\n",
    "                ymin = ymin-height\n",
    "            \n",
    "            boxes.append([xmin,ymin,width,height])\n",
    "\n",
    "        boxes = torch.as_tensor(boxes, dtype=torch.float32)\n",
    "        newPattern[1]['boxes'] = boxes\n",
    "\n",
    "    else:\n",
    "        change = False\n",
    "    \n",
    "    return img, newPattern, change\n"
   ]
  },
  {
   "cell_type": "markdown",
   "metadata": {},
   "source": [
    "Flip"
   ]
  },
  {
   "cell_type": "code",
   "execution_count": 8,
   "metadata": {},
   "outputs": [],
   "source": [
    "def flipImage(pattern, opt):\n",
    "    change = True\n",
    "    # Create a copy of the pattern\n",
    "    newPattern = copy.deepcopy(pattern)\n",
    "    \n",
    "    # Get create rotation options\n",
    "    flip  = opt\n",
    "\n",
    "    img = np.array(newPattern[0])\n",
    "\n",
    "    if flip != 2:\n",
    "        # Rotate Image\n",
    "        img = cv2.flip(img, flip)\n",
    "\n",
    "        boxes = []\n",
    "        row, col, chn = img.shape\n",
    "        centre = [row/2, col/2]\n",
    "        for box in newPattern[1]['boxes']:\n",
    "            box = np.array(box)\n",
    "\n",
    "            if flip == 0:\n",
    "                xmin, ymin = [box[0], col-box[1]-box[3]]\n",
    "                width, height = [box[2], box[3]]\n",
    "\n",
    "            elif flip == 1:\n",
    "                xmin, ymin = [row-box[0]-box[2], box[1]]\n",
    "                width, height = [box[2], box[3]]\n",
    "\n",
    "            else:\n",
    "                xmin, ymin = [row-box[0]-box[2], col-box[1]-box[3]]\n",
    "                width, height = [box[2], box[3]]\n",
    "            \n",
    "            boxes.append([xmin,ymin,width,height])\n",
    "\n",
    "        boxes = torch.as_tensor(boxes, dtype=torch.float32)\n",
    "        newPattern[1]['boxes'] = boxes\n",
    "\n",
    "    else:\n",
    "        change = False\n",
    "    \n",
    "    return img, newPattern, change"
   ]
  },
  {
   "cell_type": "markdown",
   "metadata": {},
   "source": [
    "Other data augmentation methods"
   ]
  },
  {
   "cell_type": "code",
   "execution_count": 9,
   "metadata": {},
   "outputs": [],
   "source": [
    "count = 0\n",
    "\n",
    "\n",
    "for pattern in dataset:\n",
    "    # Add noise\n",
    "    img, newPattern, change = addNoise(pattern, 0)\n",
    "    dataset.addToDataset(img, newPattern, '_N0')\n",
    "\n",
    "    img, newPattern, change = addNoise(pattern, 1)\n",
    "    dataset.addToDataset(img, newPattern, '_N1')\n",
    "\n",
    "    img, newPattern, change = addNoise(pattern, 2)\n",
    "    dataset.addToDataset(img, newPattern, '_N2')\n",
    "\n",
    "    # Rotate\n",
    "    img, newPattern, change = rotateImage(pattern, 0)\n",
    "    dataset.addToDataset(img, newPattern, '_R0')\n",
    "    \n",
    "    img, newPattern, change = rotateImage(pattern, 1)\n",
    "    dataset.addToDataset(img, newPattern, '_R1')\n",
    "    \n",
    "    img, newPattern, change = rotateImage(pattern, 2)\n",
    "    dataset.addToDataset(img, newPattern, '_R2')\n",
    "\n",
    "    # Flip\n",
    "    img, newPattern, change = flipImage(pattern, -1)\n",
    "    dataset.addToDataset(img, newPattern, '_F0')\n",
    "\n",
    "    img, newPattern, change = flipImage(pattern, 0)\n",
    "    dataset.addToDataset(img, newPattern, '_F1')\n",
    "\n",
    "    img, newPattern, change = flipImage(pattern, 1)\n",
    "    dataset.addToDataset(img, newPattern, '_F2')"
   ]
  }
 ],
 "metadata": {
  "interpreter": {
   "hash": "ad4078168b69d66fe05634f3b7be757ef4015f974a20b20ffdc4b2de487ad266"
  },
  "kernelspec": {
   "display_name": "Python 3.8.8 64-bit ('base': conda)",
   "language": "python",
   "name": "python3"
  },
  "language_info": {
   "codemirror_mode": {
    "name": "ipython",
    "version": 3
   },
   "file_extension": ".py",
   "mimetype": "text/x-python",
   "name": "python",
   "nbconvert_exporter": "python",
   "pygments_lexer": "ipython3",
   "version": "3.8.8"
  },
  "orig_nbformat": 4
 },
 "nbformat": 4,
 "nbformat_minor": 2
}
